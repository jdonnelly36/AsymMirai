{
 "cells": [
  {
   "cell_type": "code",
   "execution_count": null,
   "metadata": {},
   "outputs": [],
   "source": [
    "from train import main\n",
    "import torchvision\n",
    "import torch\n",
    "# Train AsymMirai and save the resulting model\n",
    "torch.cuda.set_device(0)\n",
    "torch.manual_seed(0)\n",
    "main(device_ids=[0,1],\n",
    "        batch_size=30,\n",
    "        lr=0.005,\n",
    "        use_addon_layers=False,\n",
    "        use_stretch_matrix=True,\n",
    "        initial_asym_mean=2000,#*20,\n",
    "        initial_asym_std=300,\n",
    "        flexible_asymmetry=True,\n",
    "        max_workers=8,\n",
    "        align_images=False,\n",
    "        latent_h=5,\n",
    "        latent_w=5,\n",
    "        save_file_suffix=\"4_26_alt_ablation_flex_width_5_matrix_learned_dist\",\n",
    "        use_all_training_data=False,\n",
    "        oversample_cancer_rate=None,\n",
    "        topk_for_heatmap=None,\n",
    "        multiple_pairs_per_exam=False)"
   ]
  }
 ],
 "metadata": {
  "kernelspec": {
   "display_name": "mirai_env",
   "language": "python",
   "name": "mirai_env"
  },
  "language_info": {
   "codemirror_mode": {
    "name": "ipython",
    "version": 3
   },
   "file_extension": ".py",
   "mimetype": "text/x-python",
   "name": "python",
   "nbconvert_exporter": "python",
   "pygments_lexer": "ipython3",
   "version": "3.7.16"
  }
 },
 "nbformat": 4,
 "nbformat_minor": 4
}
